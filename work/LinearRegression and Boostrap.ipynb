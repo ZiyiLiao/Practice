{
 "cells": [
  {
   "cell_type": "code",
   "execution_count": 99,
   "metadata": {},
   "outputs": [],
   "source": [
    "import numpy as np\n",
    "import pandas as pd\n",
    "import random\n",
    "import matplotlib.pyplot as plt\n",
    "from IPython.core.interactiveshell import InteractiveShell\n",
    "InteractiveShell.ast_node_interactivity = \"all\"\n",
    "import statsmodels.formula.api as sm"
   ]
  },
  {
   "cell_type": "code",
   "execution_count": 7,
   "metadata": {},
   "outputs": [
    {
     "data": {
      "text/plain": [
       "pandas.core.frame.DataFrame"
      ]
     },
     "execution_count": 7,
     "metadata": {},
     "output_type": "execute_result"
    },
    {
     "data": {
      "text/html": [
       "<div>\n",
       "<style scoped>\n",
       "    .dataframe tbody tr th:only-of-type {\n",
       "        vertical-align: middle;\n",
       "    }\n",
       "\n",
       "    .dataframe tbody tr th {\n",
       "        vertical-align: top;\n",
       "    }\n",
       "\n",
       "    .dataframe thead th {\n",
       "        text-align: right;\n",
       "    }\n",
       "</style>\n",
       "<table border=\"1\" class=\"dataframe\">\n",
       "  <thead>\n",
       "    <tr style=\"text-align: right;\">\n",
       "      <th></th>\n",
       "      <th>carat</th>\n",
       "      <th>price</th>\n",
       "    </tr>\n",
       "  </thead>\n",
       "  <tbody>\n",
       "    <tr>\n",
       "      <th>0</th>\n",
       "      <td>0.23</td>\n",
       "      <td>326</td>\n",
       "    </tr>\n",
       "    <tr>\n",
       "      <th>1</th>\n",
       "      <td>0.21</td>\n",
       "      <td>326</td>\n",
       "    </tr>\n",
       "    <tr>\n",
       "      <th>2</th>\n",
       "      <td>0.23</td>\n",
       "      <td>327</td>\n",
       "    </tr>\n",
       "    <tr>\n",
       "      <th>3</th>\n",
       "      <td>0.29</td>\n",
       "      <td>334</td>\n",
       "    </tr>\n",
       "    <tr>\n",
       "      <th>4</th>\n",
       "      <td>0.31</td>\n",
       "      <td>335</td>\n",
       "    </tr>\n",
       "  </tbody>\n",
       "</table>\n",
       "</div>"
      ],
      "text/plain": [
       "   carat  price\n",
       "0   0.23    326\n",
       "1   0.21    326\n",
       "2   0.23    327\n",
       "3   0.29    334\n",
       "4   0.31    335"
      ]
     },
     "execution_count": 7,
     "metadata": {},
     "output_type": "execute_result"
    }
   ],
   "source": [
    "diamonds = pd.read_csv(\"/Volumes/Data/Daily/Hybrid/CourseWork/5206-DS/diamonds_small.csv\")\n",
    "type(diamonds)\n",
    "diamonds.head()"
   ]
  },
  {
   "cell_type": "code",
   "execution_count": 8,
   "metadata": {},
   "outputs": [
    {
     "data": {
      "text/plain": [
       "53940"
      ]
     },
     "execution_count": 8,
     "metadata": {},
     "output_type": "execute_result"
    }
   ],
   "source": [
    "rows = diamonds.shape[0]\n",
    "rows"
   ]
  },
  {
   "cell_type": "code",
   "execution_count": 15,
   "metadata": {},
   "outputs": [
    {
     "data": {
      "text/plain": [
       "2000"
      ]
     },
     "execution_count": 15,
     "metadata": {},
     "output_type": "execute_result"
    }
   ],
   "source": [
    "# randomly choose 2000 lines in diamonds\n",
    "diamonds = diamonds.sample(n = 2000)\n",
    "\n",
    "# check\n",
    "n = diamonds.shape[0]\n",
    "n"
   ]
  },
  {
   "cell_type": "code",
   "execution_count": 21,
   "metadata": {},
   "outputs": [
    {
     "data": {
      "text/plain": [
       "Intercept   -2289.709777\n",
       "carat        7775.273024\n",
       "dtype: float64"
      ]
     },
     "execution_count": 21,
     "metadata": {},
     "output_type": "execute_result"
    }
   ],
   "source": [
    "result = sm.ols(formula=\"price ~ carat\", data = diamonds).fit()\n",
    "result.params"
   ]
  },
  {
   "cell_type": "markdown",
   "metadata": {},
   "source": [
    "## Part B: how does coefficients vary"
   ]
  },
  {
   "cell_type": "code",
   "execution_count": 100,
   "metadata": {},
   "outputs": [],
   "source": [
    "## resample the data\n",
    "# create a list to store\n",
    "betas = []\n",
    "\n",
    "# starting value \n",
    "i = 0\n",
    "\n",
    "# resample 1000 times\n",
    "while i < 1000:\n",
    "    # replacement = true\n",
    "    bs_sample = diamonds.sample(n = 2000, replace = True)\n",
    "    fit = sm.ols(formula = \"price ~ carat\", data = bs_sample).fit()\n",
    "    pars = np.array(fit.params)\n",
    "    betas.append(pars)\n",
    "    i += 1"
   ]
  },
  {
   "cell_type": "code",
   "execution_count": 82,
   "metadata": {},
   "outputs": [
    {
     "data": {
      "text/plain": [
       "1000"
      ]
     },
     "execution_count": 82,
     "metadata": {},
     "output_type": "execute_result"
    }
   ],
   "source": [
    "# check\n",
    "len(betas)"
   ]
  },
  {
   "cell_type": "code",
   "execution_count": 103,
   "metadata": {},
   "outputs": [],
   "source": [
    "betas = np.array(betas).reshape(1000,2)"
   ]
  },
  {
   "cell_type": "code",
   "execution_count": 108,
   "metadata": {},
   "outputs": [],
   "source": [
    "# the second column is the slope\n",
    "slope = result.params[1] - betas[:,1] "
   ]
  },
  {
   "cell_type": "code",
   "execution_count": 109,
   "metadata": {},
   "outputs": [
    {
     "data": {
      "text/plain": [
       "(array([3.59136658e-05, 0.00000000e+00, 7.18273316e-05, 1.07740997e-04,\n",
       "        1.79568329e-04, 1.79568329e-04, 4.66877655e-04, 1.18515097e-03,\n",
       "        1.07740997e-03, 1.75976962e-03, 1.93933795e-03, 2.87309326e-03,\n",
       "        2.65761127e-03, 2.94492060e-03, 2.98083426e-03, 3.48362558e-03,\n",
       "        2.69352494e-03, 3.19631626e-03, 2.51395661e-03, 1.83159696e-03,\n",
       "        1.54428763e-03, 8.61927979e-04, 6.10532319e-04, 3.59136658e-04,\n",
       "        2.15481995e-04, 1.07740997e-04, 0.00000000e+00, 0.00000000e+00,\n",
       "        0.00000000e+00, 3.59136658e-05]),\n",
       " array([-408.97413557, -381.12958176, -353.28502795, -325.44047414,\n",
       "        -297.59592033, -269.75136652, -241.90681271, -214.0622589 ,\n",
       "        -186.21770509, -158.37315128, -130.52859747, -102.68404367,\n",
       "         -74.83948986,  -46.99493605,  -19.15038224,    8.69417157,\n",
       "          36.53872538,   64.38327919,   92.227833  ,  120.07238681,\n",
       "         147.91694062,  175.76149443,  203.60604824,  231.45060204,\n",
       "         259.29515585,  287.13970966,  314.98426347,  342.82881728,\n",
       "         370.67337109,  398.5179249 ,  426.36247871]),\n",
       " <a list of 30 Patch objects>)"
      ]
     },
     "execution_count": 109,
     "metadata": {},
     "output_type": "execute_result"
    },
    {
     "data": {
      "text/plain": [
       "Text(0.5, 1.0, 'Boostrap Resamples')"
      ]
     },
     "execution_count": 109,
     "metadata": {},
     "output_type": "execute_result"
    },
    {
     "data": {
      "text/plain": [
       "Text(0, 0.5, 'Probability')"
      ]
     },
     "execution_count": 109,
     "metadata": {},
     "output_type": "execute_result"
    },
    {
     "data": {
      "text/plain": [
       "Text(0.5, 0, 'Original - Resampled')"
      ]
     },
     "execution_count": 109,
     "metadata": {},
     "output_type": "execute_result"
    },
    {
     "data": {
      "image/png": "[encoded data removed]",
      "text/plain": [
       "<Figure size 432x288 with 1 Axes>"
      ]
     },
     "metadata": {
      "needs_background": "light"
     },
     "output_type": "display_data"
    }
   ],
   "source": [
    "# plot the histogram\n",
    "plt.hist(slope, bins=30, density=1)\n",
    "plt.title('Boostrap Resamples')\n",
    "plt.ylabel('Probability')\n",
    "plt.xlabel('Original - Resampled')"
   ]
  },
  {
   "cell_type": "code",
   "execution_count": 111,
   "metadata": {},
   "outputs": [
    {
     "data": {
      "text/plain": [
       "117.72647298864686"
      ]
     },
     "execution_count": 111,
     "metadata": {},
     "output_type": "execute_result"
    }
   ],
   "source": [
    "np.std(slope)"
   ]
  },
  {
   "cell_type": "markdown",
   "metadata": {},
   "source": [
    "## Part C: Bootstrap the Confidence Interval"
   ]
  },
  {
   "cell_type": "code",
   "execution_count": 121,
   "metadata": {},
   "outputs": [
    {
     "data": {
      "text/plain": [
       "[7555.689357628503, 8000.580902624841]"
      ]
     },
     "execution_count": 121,
     "metadata": {},
     "output_type": "execute_result"
    }
   ],
   "source": [
    "## traditional boostrap intervals\n",
    "Cl = 2 * result.params[1] - np.quantile(betas[:,1],0.975)\n",
    "Cu = 2 * result.params[1] - np.quantile(betas[:,1],0.025)\n",
    "ConfidenceInterval = [Cl,Cu]\n",
    "ConfidenceInterval"
   ]
  },
  {
   "cell_type": "code",
   "execution_count": 122,
   "metadata": {},
   "outputs": [
    {
     "data": {
      "text/plain": [
       "[7549.96514609545, 7994.856691091788]"
      ]
     },
     "execution_count": 122,
     "metadata": {},
     "output_type": "execute_result"
    }
   ],
   "source": [
    "## percentile based bootstrap intervals.\n",
    "Cl = np.quantile(betas[:,1],0.025)\n",
    "Cu = np.quantile(betas[:,1],0.975)\n",
    "ConfidenceInterval = [Cl,Cu]\n",
    "ConfidenceInterval"
   ]
  }
 ],
 "metadata": {
  "kernelspec": {
   "display_name": "Python 3",
   "language": "python",
   "name": "python3"
  },
  "language_info": {
   "codemirror_mode": {
    "name": "ipython",
    "version": 3
   },
   "file_extension": ".py",
   "mimetype": "text/x-python",
   "name": "python",
   "nbconvert_exporter": "python",
   "pygments_lexer": "ipython3",
   "version": "3.7.3"
  }
 },
 "nbformat": 4,
 "nbformat_minor": 2
}
