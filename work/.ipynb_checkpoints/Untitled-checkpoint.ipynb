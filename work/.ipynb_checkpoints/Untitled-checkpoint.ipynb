{
 "cells": [
  {
   "cell_type": "code",
   "execution_count": null,
   "metadata": {},
   "outputs": [],
   "source": [
    "Shortest Completing Word"
   ]
  },
  {
   "cell_type": "code",
   "execution_count": null,
   "metadata": {},
   "outputs": [],
   "source": [
    "class Solution(object):\n",
    "    def shortestCompletingWord(self, licensePlate, words):\n",
    "        \"\"\"\n",
    "        :type licensePlate: str\n",
    "        :type words: List[str]\n",
    "        :rtype: str\n",
    "        \"\"\"\n",
    "        \n",
    "        dic = {}\n",
    "        licensePlate = [x for x in licensePlate.lower() if x.isalpha()]\n",
    "        n = len(licensePlate)\n",
    "        \n",
    "        for word in words:\n",
    "            counts = []\n",
    "            for char in licensePlate:\n",
    "                if char in word:\n",
    "                    counts.append(word.count(char)/licensePlate.count(char))\n",
    "            if len(counts) == n:\n",
    "                if (min(counts) >= 1) & (len(word) not in dic):\n",
    "                    dic[len(word)] = word\n",
    "                \n",
    "        return dic[min(dic)]"
   ]
  }
 ],
 "metadata": {
  "kernelspec": {
   "display_name": "Python 3",
   "language": "python",
   "name": "python3"
  },
  "language_info": {
   "codemirror_mode": {
    "name": "ipython",
    "version": 3
   },
   "file_extension": ".py",
   "mimetype": "text/x-python",
   "name": "python",
   "nbconvert_exporter": "python",
   "pygments_lexer": "ipython3",
   "version": "3.7.3"
  }
 },
 "nbformat": 4,
 "nbformat_minor": 2
}
