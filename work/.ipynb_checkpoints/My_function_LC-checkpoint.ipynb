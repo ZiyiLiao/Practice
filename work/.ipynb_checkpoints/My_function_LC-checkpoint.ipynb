{
 "cells": [
  {
   "cell_type": "markdown",
   "metadata": {},
   "source": [
    "Shortest Completing Word"
   ]
  },
  {
   "cell_type": "code",
   "execution_count": null,
   "metadata": {},
   "outputs": [],
   "source": [
    "class Solution(object):\n",
    "    def shortestCompletingWord(self, licensePlate, words):\n",
    "        \"\"\"\n",
    "        :type licensePlate: str\n",
    "        :type words: List[str]\n",
    "        :rtype: str\n",
    "        \"\"\"\n",
    "        \n",
    "        dic = {}\n",
    "        licensePlate = [x for x in licensePlate.lower() if x.isalpha()]\n",
    "        n = len(licensePlate)\n",
    "        \n",
    "        for word in words:\n",
    "            counts = []\n",
    "            for char in licensePlate:\n",
    "                if char in word:\n",
    "                    counts.append(word.count(char)/licensePlate.count(char))\n",
    "            if len(counts) == n:\n",
    "                if (min(counts) >= 1) & (len(word) not in dic):\n",
    "                    dic[len(word)] = word\n",
    "                \n",
    "        return dic[min(dic)]"
   ]
  },
  {
   "cell_type": "code",
   "execution_count": null,
   "metadata": {},
   "outputs": [],
   "source": [
    "Find Same Taste"
   ]
  },
  {
   "cell_type": "code",
   "execution_count": null,
   "metadata": {},
   "outputs": [],
   "source": [
    "class Solution(object):\n",
    "    def findRestaurant(self, list1, list2):\n",
    "        \"\"\"\n",
    "        :type list1: List[str]\n",
    "        :type list2: List[str]\n",
    "        :rtype: List[str]\n",
    "        \"\"\"\n",
    "        res = []\n",
    "        mini = len(list1) + len(list2)\n",
    "        for i, a in enumerate(list1):\n",
    "            for j, b in enumerate(list2):\n",
    "                if a == b:\n",
    "                    if mini >= i+j:\n",
    "                        mini = i+j\n",
    "                        res.append(a)\n",
    "                        \n",
    "        return res"
   ]
  },
  {
   "cell_type": "markdown",
   "metadata": {},
   "source": [
    "Longest Palindrome"
   ]
  },
  {
   "cell_type": "code",
   "execution_count": null,
   "metadata": {},
   "outputs": [],
   "source": [
    "class Solution(object):\n",
    "    def longestPalindrome(self, s):\n",
    "        \"\"\"\n",
    "        :type s: str\n",
    "        :rtype: int\n",
    "        \"\"\"\n",
    "       \n",
    "        bag = set(s)\n",
    "        even, odd = 0,[]\n",
    "        for char in bag:\n",
    "            count = s.count(char)\n",
    "            if count % 2:\n",
    "                odd.append(count-1)\n",
    "            else:\n",
    "                even += count\n",
    "                \n",
    "        if odd:\n",
    "            return even + sum(odd) + 1\n",
    "        else:\n",
    "            return even"
   ]
  },
  {
   "cell_type": "markdown",
   "metadata": {},
   "source": [
    "Happy Number"
   ]
  },
  {
   "cell_type": "code",
   "execution_count": null,
   "metadata": {},
   "outputs": [],
   "source": [
    "class Solution(object):\n",
    "    def isHappy(self, n):\n",
    "        \"\"\"\n",
    "        :type n: int\n",
    "        :rtype: bool\n",
    "        \"\"\"\n",
    "        out = []\n",
    "        while n not in out:\n",
    "            out.append(n)\n",
    "            n = self.helper(n)\n",
    "               \n",
    "           \n",
    "        if out[-1] == 1:\n",
    "            return True\n",
    "        else:\n",
    "            return False\n",
    "        \n",
    "    def helper(self,num):\n",
    "        digit = (num % 10) **2\n",
    "        while num >= 10:\n",
    "            num = int(num/10)\n",
    "            digit += (num % 10) **2\n",
    "        return digit   "
   ]
  },
  {
   "cell_type": "markdown",
   "metadata": {},
   "source": [
    "Self dividing number"
   ]
  },
  {
   "cell_type": "code",
   "execution_count": null,
   "metadata": {},
   "outputs": [],
   "source": [
    "class Solution(object):\n",
    "    def selfDividingNumbers(self, left, right):\n",
    "        \"\"\"\n",
    "        :type left: int\n",
    "        :type right: int\n",
    "        :rtype: List[int]\n",
    "        \"\"\"\n",
    "        ans =[]\n",
    "        for i in range(left, right+1):\n",
    "            if self.helper(i):\n",
    "                ans.append(i)\n",
    "        return ans\n",
    "        \n",
    "    def helper(self, tar):\n",
    "        n = tar\n",
    "\n",
    "        while n >= 10:\n",
    "            digit = n%10\n",
    "            if digit == 0:\n",
    "                return False\n",
    "            elif tar % digit != 0:\n",
    "                return False\n",
    "            else:\n",
    "                n = int(n/10)\n",
    "            \n",
    "        if tar % n ==0:\n",
    "            return True"
   ]
  }
 ],
 "metadata": {
  "kernelspec": {
   "display_name": "Python 3",
   "language": "python",
   "name": "python3"
  },
  "language_info": {
   "codemirror_mode": {
    "name": "ipython",
    "version": 3
   },
   "file_extension": ".py",
   "mimetype": "text/x-python",
   "name": "python",
   "nbconvert_exporter": "python",
   "pygments_lexer": "ipython3",
   "version": "3.7.3"
  }
 },
 "nbformat": 4,
 "nbformat_minor": 2
}
