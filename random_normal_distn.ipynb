{
 "cells": [
  {
   "cell_type": "code",
   "execution_count": 18,
   "metadata": {},
   "outputs": [],
   "source": [
    "# set up\n",
    "import numpy as np\n",
    "import matplotlib.pyplot as plt\n",
    "import pandas as pd\n",
    "from IPython.core.interactiveshell import InteractiveShell\n",
    "InteractiveShell.ast_node_interactivity = \"all\""
   ]
  },
  {
   "cell_type": "code",
   "execution_count": 2,
   "metadata": {},
   "outputs": [],
   "source": [
    "mu, sigma = 0,1"
   ]
  },
  {
   "cell_type": "code",
   "execution_count": 3,
   "metadata": {},
   "outputs": [
    {
     "name": "stdout",
     "output_type": "stream",
     "text": [
      "0.045 1.0\n"
     ]
    }
   ],
   "source": [
    "# 1)\n",
    "normal100 = np.random.normal(mu, sigma, 100)\n",
    "print(np.round(np.mean(normal100), 3), np.round(np.std(normal100)))"
   ]
  },
  {
   "cell_type": "code",
   "execution_count": 4,
   "metadata": {},
   "outputs": [
    {
     "data": {
      "text/plain": [
       "(array([0.09690878, 0.        , 0.        , 0.        , 0.        ,\n",
       "        0.09690878, 0.09690878, 0.        , 0.        , 0.09690878,\n",
       "        0.        , 0.        , 0.        , 0.19381756, 0.29072634,\n",
       "        0.19381756, 0.19381756, 0.77527023, 0.09690878, 0.09690878,\n",
       "        0.4845439 , 0.09690878, 0.77527023, 0.67836145, 0.58145268,\n",
       "        0.4845439 , 0.58145268, 0.29072634, 0.29072634, 0.29072634,\n",
       "        0.09690878, 0.09690878, 0.19381756, 0.19381756, 0.29072634,\n",
       "        0.38763512, 0.29072634, 0.4845439 , 0.09690878, 0.29072634,\n",
       "        0.19381756, 0.09690878, 0.        , 0.        , 0.09690878,\n",
       "        0.        , 0.        , 0.        , 0.        , 0.09690878]),\n",
       " array([-2.63890041, -2.53571058, -2.43252076, -2.32933093, -2.22614111,\n",
       "        -2.12295128, -2.01976146, -1.91657163, -1.81338181, -1.71019198,\n",
       "        -1.60700216, -1.50381233, -1.40062251, -1.29743268, -1.19424285,\n",
       "        -1.09105303, -0.9878632 , -0.88467338, -0.78148355, -0.67829373,\n",
       "        -0.5751039 , -0.47191408, -0.36872425, -0.26553443, -0.1623446 ,\n",
       "        -0.05915478,  0.04403505,  0.14722487,  0.2504147 ,  0.35360453,\n",
       "         0.45679435,  0.55998418,  0.663174  ,  0.76636383,  0.86955365,\n",
       "         0.97274348,  1.0759333 ,  1.17912313,  1.28231295,  1.38550278,\n",
       "         1.4886926 ,  1.59188243,  1.69507226,  1.79826208,  1.90145191,\n",
       "         2.00464173,  2.10783156,  2.21102138,  2.31421121,  2.41740103,\n",
       "         2.52059086]),\n",
       " <a list of 50 Patch objects>)"
      ]
     },
     "execution_count": 4,
     "metadata": {},
     "output_type": "execute_result"
    },
    {
     "data": {
      "image/png": "[encoded data removed]",
      "text/plain": [
       "<Figure size 432x288 with 1 Axes>"
      ]
     },
     "metadata": {
      "needs_background": "light"
     },
     "output_type": "display_data"
    }
   ],
   "source": [
    "# 2) plot the histogram\n",
    "plt.hist(normal100, bins=50, density=1)\n",
    "plt.show()"
   ]
  },
  {
   "cell_type": "code",
   "execution_count": 5,
   "metadata": {},
   "outputs": [],
   "source": [
    "# 3) reapeat 1)\n",
    "normal10 = np.random.normal(mu, sigma, 10)\n",
    "normal100 = np.random.normal(mu, sigma, 100)\n",
    "normal1000 = np.random.normal(mu, sigma, 1000)\n",
    "normal10000 = np.random.normal(mu, sigma, 10000)\n",
    "normal100000 = np.random.normal(mu, sigma, 100000)"
   ]
  },
  {
   "cell_type": "code",
   "execution_count": 6,
   "metadata": {},
   "outputs": [
    {
     "data": {
      "text/plain": [
       "5"
      ]
     },
     "execution_count": 6,
     "metadata": {},
     "output_type": "execute_result"
    }
   ],
   "source": [
    "# 4) store in a vectore\n",
    "sample_vector = np.array([np.mean(normal10),np.mean(normal100), np.mean(1000), np.mean(10000), np.mean(100000)])\n",
    "len(sample_vector)"
   ]
  },
  {
   "cell_type": "code",
   "execution_count": 7,
   "metadata": {},
   "outputs": [
    {
     "data": {
      "text/plain": [
       "2.999886839997482"
      ]
     },
     "execution_count": 7,
     "metadata": {},
     "output_type": "execute_result"
    },
    {
     "data": {
      "text/plain": [
       "2.0000760148878785"
      ]
     },
     "execution_count": 7,
     "metadata": {},
     "output_type": "execute_result"
    }
   ],
   "source": [
    "# 5) \n",
    "normal1mil = np.random.normal(3, 2, 100000000)\n",
    "np.mean(normal1mil)\n",
    "np.std(normal1mil)"
   ]
  },
  {
   "cell_type": "code",
   "execution_count": 8,
   "metadata": {},
   "outputs": [
    {
     "data": {
      "text/plain": [
       "4.595817723067491"
      ]
     },
     "execution_count": 8,
     "metadata": {},
     "output_type": "execute_result"
    }
   ],
   "source": [
    "# 6) \n",
    "np.mean(normal1mil[normal1mil>3])"
   ]
  },
  {
   "cell_type": "code",
   "execution_count": 9,
   "metadata": {},
   "outputs": [
    {
     "data": {
      "text/plain": [
       "(10000, 10000)"
      ]
     },
     "execution_count": 9,
     "metadata": {},
     "output_type": "execute_result"
    }
   ],
   "source": [
    "# 7) \n",
    "normal1mil_mat = np.array(normal1mil).reshape(10000,10000)\n",
    "normal1mil_mat.shape"
   ]
  },
  {
   "cell_type": "code",
   "execution_count": 10,
   "metadata": {},
   "outputs": [
    {
     "data": {
      "text/plain": [
       "2.986215347913963"
      ]
     },
     "execution_count": 10,
     "metadata": {},
     "output_type": "execute_result"
    }
   ],
   "source": [
    "# 8) calculate the 1234th column's mean\n",
    "normal1mil_mat[:,1233].mean()"
   ]
  },
  {
   "cell_type": "code",
   "execution_count": 28,
   "metadata": {},
   "outputs": [],
   "source": [
    "# 9)\n",
    "colmean = normal1mil_mat.mean(axis = 0) # 0 means column"
   ]
  },
  {
   "cell_type": "code",
   "execution_count": 31,
   "metadata": {},
   "outputs": [
    {
     "data": {
      "text/plain": [
       "(array([ 0.06409435,  0.09614153,  0.19228305,  0.2563774 ,  0.54480198,\n",
       "         0.32047175,  0.60889633,  1.12165114,  1.50621725,  2.21125511,\n",
       "         2.82015144,  4.32636869,  5.2236896 ,  6.08896334,  7.91565234,\n",
       "         9.99871875, 12.40225691, 13.29957782, 15.67106881, 16.92090865,\n",
       "        18.39507872, 19.96539032, 19.06806941, 19.64491857, 18.71555048,\n",
       "        19.22830528, 17.52980498, 15.19036117, 13.23548347, 12.11383233,\n",
       "         9.71029417,  8.90911478,  6.69785967,  5.51211418,  4.26227434,\n",
       "         3.01243449,  2.30739663,  1.66645312,  1.21779267,  1.02550962,\n",
       "         0.60889633,  0.38456611,  0.16023588,  0.1281887 ,  0.03204718,\n",
       "         0.03204718,  0.03204718,  0.03204718,  0.03204718,  0.03204718]),\n",
       " array([2.92786532, 2.93098572, 2.93410612, 2.93722652, 2.94034692,\n",
       "        2.94346732, 2.94658772, 2.94970812, 2.95282852, 2.95594892,\n",
       "        2.95906932, 2.96218972, 2.96531012, 2.96843052, 2.97155092,\n",
       "        2.97467132, 2.97779172, 2.98091212, 2.98403252, 2.98715292,\n",
       "        2.99027332, 2.99339372, 2.99651412, 2.99963452, 3.00275492,\n",
       "        3.00587532, 3.00899572, 3.01211612, 3.01523652, 3.01835692,\n",
       "        3.02147732, 3.02459772, 3.02771812, 3.03083852, 3.03395892,\n",
       "        3.03707932, 3.04019972, 3.04332012, 3.04644052, 3.04956092,\n",
       "        3.05268132, 3.05580172, 3.05892212, 3.06204252, 3.06516291,\n",
       "        3.06828331, 3.07140371, 3.07452411, 3.07764451, 3.08076491,\n",
       "        3.08388531]),\n",
       " <a list of 50 Patch objects>)"
      ]
     },
     "execution_count": 31,
     "metadata": {},
     "output_type": "execute_result"
    },
    {
     "data": {
      "image/png": "[encoded data removed]",
      "text/plain": [
       "<Figure size 432x288 with 1 Axes>"
      ]
     },
     "metadata": {
      "needs_background": "light"
     },
     "output_type": "display_data"
    }
   ],
   "source": [
    "# 10)\n",
    "plt.hist(colmean, bins=50, density=1)\n",
    "plt.show()"
   ]
  },
  {
   "cell_type": "code",
   "execution_count": null,
   "metadata": {},
   "outputs": [],
   "source": []
  }
 ],
 "metadata": {
  "kernelspec": {
   "display_name": "Python 3",
   "language": "python",
   "name": "python3"
  },
  "language_info": {
   "codemirror_mode": {
    "name": "ipython",
    "version": 3
   },
   "file_extension": ".py",
   "mimetype": "text/x-python",
   "name": "python",
   "nbconvert_exporter": "python",
   "pygments_lexer": "ipython3",
   "version": "3.7.3"
  }
 },
 "nbformat": 4,
 "nbformat_minor": 2
}
